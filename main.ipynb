{
 "cells": [
  {
   "cell_type": "markdown",
   "metadata": {},
   "source": [
    "## Devide Data into trai&test"
   ]
  },
  {
   "cell_type": "code",
   "execution_count": null,
   "metadata": {},
   "outputs": [],
   "source": [
    "from more_itertools import chunked\n",
    "from functional import seq\n",
    "from pathlib import Path\n",
    "import pandas as pd\n",
    "import glob"
   ]
  },
  {
   "cell_type": "markdown",
   "metadata": {},
   "source": [
    "## Utils"
   ]
  },
  {
   "cell_type": "code",
   "execution_count": null,
   "metadata": {},
   "outputs": [],
   "source": [
    "def get_file_conetent(file: Path):\n",
    "    with open(file, 'r') as f:\n",
    "        return seq(f.readlines()).map(lambda line: line.strip()).to_list()"
   ]
  },
  {
   "cell_type": "code",
   "execution_count": null,
   "metadata": {},
   "outputs": [],
   "source": [
    "def split_into_segments(content: list[str], *, segment_size: int = 100):\n",
    "    return list(chunked(content, segment_size))"
   ]
  },
  {
   "cell_type": "code",
   "execution_count": null,
   "metadata": {},
   "outputs": [],
   "source": [
    "def join_segments(content: list[list[str]]):\n",
    "    return seq(content).map(lambda line: ' '.join(line))"
   ]
  },
  {
   "cell_type": "markdown",
   "metadata": {},
   "source": [
    "## Organize data"
   ]
  },
  {
   "cell_type": "code",
   "execution_count": null,
   "metadata": {},
   "outputs": [],
   "source": [
    "label_df: pd.DataFrame = pd.read_csv('./challengeToFill.csv')\n",
    "label_df.set_index('Unnamed: 0', inplace=True)\n",
    "label_df.index.name = None\n",
    "label_df.head(3)"
   ]
  },
  {
   "cell_type": "code",
   "execution_count": null,
   "metadata": {},
   "outputs": [],
   "source": [
    "files_paths: list[Path] = glob.glob('./FraudedRawData/User*')\n",
    "files: list[list[str]] = seq(files_paths)\\\n",
    "    .map(get_file_conetent)\\\n",
    "    .map(split_into_segments)\\\n",
    "    .map(join_segments)\n",
    "files = seq(files_paths)\\\n",
    "    .map(lambda s: s.split('/')[-1])\\\n",
    "    .zip(files)\\\n",
    "    .to_dict()\n",
    "text_df: pd.DataFrame = pd.DataFrame.from_dict(files).transpose()\n",
    "new_column_names = {i: f'{i*100}-{(i+1)*100}' for i in text_df.columns}\n",
    "text_df.rename(columns=new_column_names, inplace=True)\n",
    "text_df.sort_index(inplace=True)\n",
    "text_df.head(2)"
   ]
  },
  {
   "cell_type": "code",
   "execution_count": null,
   "metadata": {},
   "outputs": [],
   "source": [
    "text_df = text_df.reset_index()\n",
    "text_df = text_df.melt(id_vars='index', var_name='segment', value_name='text')\n",
    "text_df.rename(columns={'index': 'user_id'}, inplace=True)\n",
    "text_df"
   ]
  },
  {
   "cell_type": "code",
   "execution_count": null,
   "metadata": {},
   "outputs": [],
   "source": [
    "label_df = label_df.reset_index()\n",
    "label_df = label_df.melt(id_vars='index', var_name='segment', value_name='label')\n",
    "label_df.rename(columns={'index': 'user_id'}, inplace=True)\n",
    "label_df"
   ]
  },
  {
   "cell_type": "code",
   "execution_count": null,
   "metadata": {},
   "outputs": [],
   "source": [
    "label_df['user_id'] = label_df['user_id'].astype(str)\n",
    "text_df['user_id'] = text_df['user_id'].astype(str)\n",
    "df = pd.merge(text_df, label_df, on=['user_id', 'segment'], how='left')\n",
    "df"
   ]
  },
  {
   "cell_type": "markdown",
   "metadata": {},
   "source": [
    "## Train Test Split"
   ]
  },
  {
   "cell_type": "code",
   "execution_count": null,
   "metadata": {},
   "outputs": [],
   "source": [
    "from sklearn.model_selection import train_test_split"
   ]
  },
  {
   "cell_type": "code",
   "execution_count": null,
   "metadata": {},
   "outputs": [],
   "source": [
    "train: pd.DataFrame = df[df['label'].notnull()]\n",
    "test: pd.DataFrame = df[df['label'].isna()]"
   ]
  },
  {
   "cell_type": "code",
   "execution_count": null,
   "metadata": {},
   "outputs": [],
   "source": [
    "x_train , y_train = train['text'], train['label']\n",
    "x_train, x_validation, y_train, y_validation = train_test_split(x_train, y_train)\n",
    "# TODO: change to split by the user (all train should be in one batch and other user in test -> no information leak)"
   ]
  },
  {
   "cell_type": "markdown",
   "metadata": {},
   "source": [
    "## Models"
   ]
  },
  {
   "cell_type": "code",
   "execution_count": null,
   "metadata": {},
   "outputs": [],
   "source": [
    "from sklearn.feature_extraction.text import CountVectorizer\n",
    "from sklearn.feature_extraction.text import TfidfTransformer\n",
    "\n",
    "count_vect = CountVectorizer()\n",
    "x_train_counts = count_vect.fit_transform(x_train)\n",
    "tfidf_transformer = TfidfTransformer()\n",
    "X_train_tf = tfidf_transformer.fit_transform(x_train_counts)\n",
    "X_train_tf"
   ]
  },
  {
   "cell_type": "code",
   "execution_count": null,
   "metadata": {},
   "outputs": [],
   "source": [
    "count_vect = CountVectorizer()\n",
    "x_validation_count = count_vect.transform(x_validation)\n",
    "X_validation_tf = tfidf_transformer.transform(x_validation_count)\n",
    "X_validation_tf"
   ]
  },
  {
   "cell_type": "markdown",
   "metadata": {},
   "source": [
    "### TD-IDF"
   ]
  },
  {
   "cell_type": "code",
   "execution_count": null,
   "metadata": {},
   "outputs": [],
   "source": [
    "from sklearn.naive_bayes import MultinomialNB\n",
    "clf = MultinomialNB().fit(X_train_tf, y_train)\n",
    "y_pred = clf.predict(X_validation_tf)\n",
    "(y_pred == y_validation)"
   ]
  },
  {
   "cell_type": "code",
   "execution_count": null,
   "metadata": {},
   "outputs": [],
   "source": []
  },
  {
   "cell_type": "markdown",
   "metadata": {},
   "source": [
    "### "
   ]
  },
  {
   "cell_type": "code",
   "execution_count": null,
   "metadata": {},
   "outputs": [],
   "source": []
  },
  {
   "cell_type": "code",
   "execution_count": null,
   "metadata": {},
   "outputs": [],
   "source": []
  }
 ],
 "metadata": {
  "kernelspec": {
   "display_name": "venv",
   "language": "python",
   "name": "python3"
  },
  "language_info": {
   "codemirror_mode": {
    "name": "ipython",
    "version": 3
   },
   "file_extension": ".py",
   "mimetype": "text/x-python",
   "name": "python",
   "nbconvert_exporter": "python",
   "pygments_lexer": "ipython3",
   "version": "3.11.5"
  }
 },
 "nbformat": 4,
 "nbformat_minor": 2
}
